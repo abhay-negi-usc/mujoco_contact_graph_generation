{
 "cells": [
  {
   "cell_type": "code",
   "execution_count": 51,
   "metadata": {},
   "outputs": [],
   "source": [
    "import numpy as np \n",
    "import pandas as pd \n",
    "import matplotlib.pyplot as plt \n",
    "import pickle\n",
    "import os  \n",
    "import glob "
   ]
  },
  {
   "cell_type": "code",
   "execution_count": 58,
   "metadata": {},
   "outputs": [],
   "source": [
    "# read in pkl file \n",
    "dir_pkl = \"/media/rp/Elements/abhay_ws/mujoco_contact_graph_generation/results/data_v3/pkl\"\n",
    "\n",
    "# list all pkl files in the directory \n",
    "pkl_files = sorted(glob.glob(os.path.join(dir_pkl, \"*.pkl\")), key=os.path.getmtime)\n",
    "\n",
    "# list of all contact state history \n",
    "N_timesteps = 500 \n",
    "N_trials = 1000 # len(pkl_files) \n",
    "pkl_files = pkl_files[:N_trials] \n",
    "wrench_hist_all = np.zeros((6, N_timesteps*N_trials)) \n",
    "\n",
    "for i, pkl_file in enumerate(pkl_files): \n",
    "    \n",
    "    # Read the pickle file\n",
    "    with open(pkl_file, 'rb') as f:\n",
    "        data = pickle.load(f)\n",
    "\n",
    "    # unpack data \n",
    "    sensor_hist = data['sensor_hist'] \n",
    "\n",
    "    wrench_hist_all[:, i*N_timesteps:(i+1)*N_timesteps] = sensor_hist[:,:6].transpose()  "
   ]
  },
  {
   "cell_type": "code",
   "execution_count": 60,
   "metadata": {},
   "outputs": [],
   "source": [
    "df_filt = pd.DataFrame(wrench_hist_all.transpose(), columns=['FX', 'FY', 'FZ', 'TX', 'TY', 'TZ'])"
   ]
  },
  {
   "cell_type": "code",
   "execution_count": 64,
   "metadata": {},
   "outputs": [
    {
     "data": {
      "text/plain": [
       "<matplotlib.collections.PathCollection at 0x7f8af6e27ad0>"
      ]
     },
     "execution_count": 64,
     "metadata": {},
     "output_type": "execute_result"
    }
   ],
   "source": [
    "%matplotlib qt \n",
    "fig, axs = plt.subplots(1,2, figsize=(20,10)) \n",
    "# scatter plot with low transparency markers \n",
    "\n",
    "axs[0].scatter(df_filt['TY']/df_filt['FZ'], df_filt['FX']/df_filt['FZ'], alpha=0.1)  \n",
    "axs[1].scatter(df_filt['TY']/df_filt['FZ'], df_filt['FY']/df_filt['FZ'], alpha=0.1) "
   ]
  },
  {
   "cell_type": "code",
   "execution_count": 68,
   "metadata": {},
   "outputs": [
    {
     "data": {
      "text/plain": [
       "[<matplotlib.lines.Line2D at 0x7f8af4cd25a0>]"
      ]
     },
     "execution_count": 68,
     "metadata": {},
     "output_type": "execute_result"
    }
   ],
   "source": [
    "# plot a specific trial \n",
    "idx_trial = 2 \n",
    "indices_trial = np.arange(idx_trial*N_timesteps, (idx_trial+1)*N_timesteps) \n",
    "df_trial = df_filt.iloc[indices_trial] \n",
    "\n",
    "fig, axs = plt.subplots(1,2, figsize=(20,10)) \n",
    "fig.suptitle(f\"Trial {idx_trial}\")\n",
    "axs[0].plot(df_trial['TY']/df_trial['FZ'], df_trial['FX']/df_trial['FZ'], '.-')  \n",
    "axs[1].plot(df_trial['TY']/df_trial['FZ'], df_trial['FY']/df_trial['FZ'], '.-') \n"
   ]
  },
  {
   "cell_type": "code",
   "execution_count": 46,
   "metadata": {},
   "outputs": [
    {
     "data": {
      "text/plain": [
       "<matplotlib.collections.PathCollection at 0x7f8ac43c5220>"
      ]
     },
     "execution_count": 46,
     "metadata": {},
     "output_type": "execute_result"
    }
   ],
   "source": [
    "%matplotlib qt \n",
    "fig, axs = plt.subplots(1,2, figsize=(20,10)) \n",
    "# scatter plot with low transparency markers \n",
    "\n",
    "axs[0].scatter(df_filt['TY']/df_filt['FZ'], df_filt['FX']/df_filt['FZ'], alpha=0.002)  \n",
    "axs[1].scatter(df_filt['TY']/df_filt['FZ'], df_filt['FY']/df_filt['FZ'], alpha=0.002) "
   ]
  }
 ],
 "metadata": {
  "kernelspec": {
   "display_name": "mujoco_env",
   "language": "python",
   "name": "python3"
  },
  "language_info": {
   "codemirror_mode": {
    "name": "ipython",
    "version": 3
   },
   "file_extension": ".py",
   "mimetype": "text/x-python",
   "name": "python",
   "nbconvert_exporter": "python",
   "pygments_lexer": "ipython3",
   "version": "3.12.7"
  }
 },
 "nbformat": 4,
 "nbformat_minor": 2
}
