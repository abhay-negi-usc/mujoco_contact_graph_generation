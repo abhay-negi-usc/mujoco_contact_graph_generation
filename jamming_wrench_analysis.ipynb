{
 "cells": [
  {
   "cell_type": "code",
   "execution_count": 1,
   "metadata": {},
   "outputs": [],
   "source": [
    "import numpy as np \n",
    "import pandas as pd \n",
    "import matplotlib.pyplot as plt \n",
    "import pickle\n",
    "import os  \n",
    "import glob "
   ]
  },
  {
   "cell_type": "code",
   "execution_count": 61,
   "metadata": {},
   "outputs": [
    {
     "name": "stdout",
     "output_type": "stream",
     "text": [
      "Index(['time', 'X', 'Y', 'Z', 'QX', 'QY', 'QZ', 'QW', 'X_dot', 'Y_dot',\n",
      "       ...\n",
      "       'HV3-PE4', 'HV4-PF1', 'HV4-PF2', 'HV4-PF3', 'HV4-PF4', 'HV4-PE1',\n",
      "       'HV4-PE2', 'HV4-PE3', 'HV4-PE4', 'contact_type'],\n",
      "      dtype='object', length=124)\n",
      "Number of points before filtering:  500000\n",
      "Number of points after filtering:  460510\n",
      "Filtering rate:  0.92102\n"
     ]
    }
   ],
   "source": [
    "file = \"/media/rp/Elements/abhay_ws/mujoco_contact_graph_generation/results/data_v5/processed_data/state_hist_all.csv\"\n",
    "df = pd.read_csv(file) \n",
    "print(df.columns )\n",
    "\n",
    "df['v'] = np.sqrt(df['X_dot']**2 + df['Y_dot']**2 + df['Z_dot']**2) \n",
    "df['w'] = np.sqrt(df['A_dot']**2 + df['B_dot']**2 + df['C_dot']**2) \n",
    "# df_filt = df[(df['v'] < 0.001) & (df['w'] < 0.01)] \n",
    "df_filt = df[(df['v'] < 0.0001)] \n",
    "\n",
    "print(\"Number of points before filtering: \", len(df))\n",
    "print(\"Number of points after filtering: \", len(df_filt))\n",
    "print(\"Filtering rate: \", len(df_filt)/len(df))     "
   ]
  },
  {
   "cell_type": "code",
   "execution_count": 63,
   "metadata": {},
   "outputs": [
    {
     "name": "stdout",
     "output_type": "stream",
     "text": [
      "time            0.000000\n",
      "X              -0.001059\n",
      "Y               0.000339\n",
      "Z               0.001642\n",
      "QX              0.000430\n",
      "                  ...   \n",
      "HV4-PE3         0.000000\n",
      "HV4-PE4         0.000000\n",
      "contact_type   -7.000000\n",
      "v               0.000000\n",
      "w               0.000000\n",
      "Length: 126, dtype: float64\n"
     ]
    }
   ],
   "source": [
    "step = 0  \n",
    "print(df.loc[0+step,:]-df.loc[500+step,:]) \n",
    "\n"
   ]
  },
  {
   "cell_type": "code",
   "execution_count": 19,
   "metadata": {},
   "outputs": [
    {
     "data": {
      "text/plain": [
       "<matplotlib.collections.PathCollection at 0x7f5e456cd430>"
      ]
     },
     "execution_count": 19,
     "metadata": {},
     "output_type": "execute_result"
    }
   ],
   "source": [
    "%matplotlib qt \n",
    "fig, axs = plt.subplots(1,2, figsize=(20,10)) \n",
    "# scatter plot with low transparency markers \n",
    "\n",
    "axs[0].scatter(df_filt['TY']/df_filt['FZ'], df_filt['FX']/df_filt['FZ'], alpha=0.1)  \n",
    "axs[1].scatter(df_filt['TX']/df_filt['FZ'], df_filt['FY']/df_filt['FZ'], alpha=0.1) "
   ]
  },
  {
   "cell_type": "code",
   "execution_count": 41,
   "metadata": {},
   "outputs": [
    {
     "data": {
      "text/plain": [
       "np.float64(1.0847446804866718e-19)"
      ]
     },
     "execution_count": 41,
     "metadata": {},
     "output_type": "execute_result"
    }
   ],
   "source": [
    "df_filt['Y'].std() "
   ]
  },
  {
   "cell_type": "code",
   "execution_count": 68,
   "metadata": {},
   "outputs": [
    {
     "data": {
      "text/plain": [
       "[<matplotlib.lines.Line2D at 0x7f8af4cd25a0>]"
      ]
     },
     "execution_count": 68,
     "metadata": {},
     "output_type": "execute_result"
    }
   ],
   "source": [
    "# plot a specific trial \n",
    "idx_trial = 2 \n",
    "indices_trial = np.arange(idx_trial*N_timesteps, (idx_trial+1)*N_timesteps) \n",
    "df_trial = df_filt.iloc[indices_trial] \n",
    "\n",
    "fig, axs = plt.subplots(1,2, figsize=(20,10)) \n",
    "fig.suptitle(f\"Trial {idx_trial}\")\n",
    "axs[0].plot(df_trial['TY']/df_trial['FZ'], df_trial['FX']/df_trial['FZ'], '.-')  \n",
    "axs[1].plot(df_trial['TY']/df_trial['FZ'], df_trial['FY']/df_trial['FZ'], '.-') \n"
   ]
  },
  {
   "cell_type": "code",
   "execution_count": 46,
   "metadata": {},
   "outputs": [
    {
     "data": {
      "text/plain": [
       "<matplotlib.collections.PathCollection at 0x7f8ac43c5220>"
      ]
     },
     "execution_count": 46,
     "metadata": {},
     "output_type": "execute_result"
    }
   ],
   "source": [
    "%matplotlib qt \n",
    "fig, axs = plt.subplots(1,2, figsize=(20,10)) \n",
    "# scatter plot with low transparency markers \n",
    "\n",
    "axs[0].scatter(df_filt['TY']/df_filt['FZ'], df_filt['FX']/df_filt['FZ'], alpha=0.002)  \n",
    "axs[1].scatter(df_filt['TY']/df_filt['FZ'], df_filt['FY']/df_filt['FZ'], alpha=0.002) "
   ]
  }
 ],
 "metadata": {
  "kernelspec": {
   "display_name": "mujoco_env",
   "language": "python",
   "name": "python3"
  },
  "language_info": {
   "codemirror_mode": {
    "name": "ipython",
    "version": 3
   },
   "file_extension": ".py",
   "mimetype": "text/x-python",
   "name": "python",
   "nbconvert_exporter": "python",
   "pygments_lexer": "ipython3",
   "version": "3.12.7"
  }
 },
 "nbformat": 4,
 "nbformat_minor": 2
}
