{
 "cells": [
  {
   "cell_type": "code",
   "execution_count": 1,
   "metadata": {},
   "outputs": [],
   "source": [
    "import numpy as np \n",
    "import pandas as pd \n",
    "import matplotlib.pyplot as plt \n",
    "import glob \n",
    "import os \n",
    "import pickle \n",
    "from scipy.spatial.transform import Rotation as R "
   ]
  },
  {
   "cell_type": "code",
   "execution_count": 2,
   "metadata": {},
   "outputs": [],
   "source": [
    "# Set equal scaling\n",
    "def set_axes_equal(ax):\n",
    "    \"\"\"Set 3D plot axes to have equal scale.\"\"\"\n",
    "    x_limits = ax.get_xlim3d()\n",
    "    y_limits = ax.get_ylim3d()\n",
    "    z_limits = ax.get_zlim3d()\n",
    "\n",
    "    x_range = abs(x_limits[1] - x_limits[0])\n",
    "    y_range = abs(y_limits[1] - y_limits[0])\n",
    "    # z_range = abs(z_limits[1] - z_limits[0])\n",
    "\n",
    "    max_range = max(x_range, y_range)\n",
    "\n",
    "    x_middle = np.mean(x_limits)\n",
    "    y_middle = np.mean(y_limits)\n",
    "    # z_middle = np.mean(z_limits)\n",
    "\n",
    "    ax.set_xlim3d([x_middle - max_range / 2, x_middle + max_range / 2])\n",
    "    ax.set_ylim3d([y_middle - max_range / 2, y_middle + max_range / 2])\n",
    "    # ax.set_zlim3d([z_middle - max_range / 2, z_middle + max_range / 2])"
   ]
  },
  {
   "cell_type": "code",
   "execution_count": 3,
   "metadata": {},
   "outputs": [
    {
     "name": "stdout",
     "output_type": "stream",
     "text": [
      "5719626\n"
     ]
    }
   ],
   "source": [
    "# read data \n",
    "# dir_results = \"/media/rp/Elements/abhay_ws/mujoco_contact_graph_generation/results/plug_3_pin_data_v2\" \n",
    "dir_results = \"/media/rp/Elements/abhay_ws/mujoco_contact_graph_generation/results/cross_data/perturb\" \n",
    "dir_pkl = dir_results + \"/pkl\" \n",
    "dir_save = dir_pkl.removesuffix(\"pkl\") + \"processed_data\"\n",
    "pose_boundary_df = pd.read_csv(os.path.join(dir_save, \"cross_peg_contact_map_sim.csv\")) \n",
    "print(len(pose_boundary_df)) "
   ]
  },
  {
   "cell_type": "code",
   "execution_count": 4,
   "metadata": {},
   "outputs": [],
   "source": [
    "flag_filter = False    \n",
    "filter_dimensions = ['x','y','a','b','c'] \n",
    "# find the mean and std of the data \n",
    "mean_data = pose_boundary_df[filter_dimensions].mean(axis=0)\n",
    "std_data = pose_boundary_df[filter_dimensions].std(axis=0)\n",
    "\n",
    "# filter data to 2 standard deviations from the mean \n",
    "if flag_filter: \n",
    "    # pose_boundary_df = pose_boundary_df[(pose_boundary_df[filter_dimensions] > mean_data - 2*std_data).all(axis=1)]\n",
    "    # pose_boundary_df = pose_boundary_df[(pose_boundary_df[filter_dimensions] < mean_data + 2*std_data).all(axis=1)] \n",
    "    pose_boundary_df = pose_boundary_df[pose_boundary_df['z'] < 14.0] "
   ]
  },
  {
   "cell_type": "code",
   "execution_count": 5,
   "metadata": {},
   "outputs": [
    {
     "name": "stdout",
     "output_type": "stream",
     "text": [
      "Number of filtered data points: 167321\n"
     ]
    }
   ],
   "source": [
    "# cross-sectional plot \n",
    "\n",
    "dimension_filters = {\n",
    "    \"x\": [-0.1, +0.1],\n",
    "    \"y\": [-0.05, +0.05], \n",
    "    \"z\": [-float('inf'), +float('inf')],\n",
    "    \"a\": [-float('inf'), +float('inf')], \n",
    "    \"b\": [-float('inf'), +float('inf')], \n",
    "    \"c\": [-float('inf'), +float('inf')], \n",
    "}\n",
    "\n",
    "# filter data \n",
    "pose_boundary_df_filtered = pose_boundary_df.copy()\n",
    "for dim, bounds in dimension_filters.items():\n",
    "    pose_boundary_df_filtered = pose_boundary_df_filtered[(pose_boundary_df_filtered[dim] >= bounds[0]) & (pose_boundary_df_filtered[dim] <= bounds[1])] \n",
    "\n",
    "# number of filtered data points \n",
    "print(f\"Number of filtered data points: {pose_boundary_df_filtered.shape[0]}\") \n",
    "\n",
    "max_points_plot = 100_000\n",
    "pose_boundary_df_filtered = pose_boundary_df_filtered.sample(n=min(max_points_plot, pose_boundary_df_filtered.shape[0])) \n",
    "\n",
    "# plot_dimensions = [\"x\", \"y\", \"a\", \"c\"]\n",
    "plot_dimensions = [\"a\", \"b\", \"c\", \"x\"] \n",
    "# 3d plot of 2d manifold \n",
    "%matplotlib qt \n",
    "fig = plt.figure() \n",
    "ax = fig.add_subplot(111, projection='3d') \n",
    "# ax.scatter(pose_boundary_df_filtered[plot_dimensions[0]], pose_boundary_df_filtered[plot_dimensions[1]], pose_boundary_df_filtered[plot_dimensions[2]], s=1) \n",
    "sc = ax.scatter(pose_boundary_df_filtered[plot_dimensions[0]], pose_boundary_df_filtered[plot_dimensions[1]], pose_boundary_df_filtered[plot_dimensions[2]], s=1, c=pose_boundary_df_filtered[plot_dimensions[3]], cmap='viridis')  \n",
    "cbar = plt.colorbar(sc)\n",
    "cbar.set_label(plot_dimensions[3])\n",
    "ax.set_xlabel(plot_dimensions[0]) \n",
    "ax.set_ylabel(plot_dimensions[1]) \n",
    "ax.set_zlabel(plot_dimensions[2]) \n",
    "# set_axes_equal(ax)\n",
    "plt.show() "
   ]
  },
  {
   "cell_type": "code",
   "execution_count": 6,
   "metadata": {},
   "outputs": [
    {
     "name": "stdout",
     "output_type": "stream",
     "text": [
      "Number of filtered data points: 5719626\n"
     ]
    }
   ],
   "source": [
    "# full dimensional plot \n",
    "\n",
    "dimension_filters = {\n",
    "    \"x\": [-float('inf'), +float('inf')],\n",
    "    \"y\": [-float('inf'), +float('inf')],\n",
    "    \"z\": [-float('inf'), +float('inf')],\n",
    "    \"a\": [-float('inf'), +float('inf')], \n",
    "    \"b\": [-float('inf'), +float('inf')], \n",
    "    \"c\": [-float('inf'), +float('inf')], \n",
    "}\n",
    "\n",
    "# filter data \n",
    "pose_boundary_df_filtered = pose_boundary_df.copy()\n",
    "# for dim, bounds in dimension_filters.items():\n",
    "#     pose_boundary_df_filtered = pose_boundary_df_filtered[pose_boundary_df_filtered[dim] >= pose_boundary_df_filtered[dim].mean() - 2*pose_boundary_df_filtered[dim].std()]\n",
    "#     pose_boundary_df_filtered = pose_boundary_df_filtered[pose_boundary_df_filtered[dim] <= pose_boundary_df_filtered[dim].mean() + 2*pose_boundary_df_filtered[dim].std()]\n",
    "#     pose_boundary_df_filtered = pose_boundary_df_filtered[(pose_boundary_df_filtered[dim] >= bounds[0]) & (pose_boundary_df_filtered[dim] <= bounds[1])] \n",
    "\n",
    "# number of filtered data points \n",
    "print(f\"Number of filtered data points: {pose_boundary_df_filtered.shape[0]}\") \n",
    "\n",
    "max_points_plot = 100_000\n",
    "pose_boundary_df_filtered = pose_boundary_df_filtered.sample(n=min(max_points_plot, pose_boundary_df_filtered.shape[0])) \n"
   ]
  },
  {
   "cell_type": "code",
   "execution_count": 7,
   "metadata": {},
   "outputs": [
    {
     "data": {
      "text/plain": [
       "(array([  2.,  11., 101., 100.,  99., 101., 100.,  99., 100.,  99., 101.,\n",
       "         98.,  99., 102., 101.,  97.,  99., 103., 100., 102.,  97.,  98.,\n",
       "        101.,  98., 100., 100., 104.,  92., 108.,  97., 101.,  99.,  98.,\n",
       "        102.,  98., 103.,  98.,  99.,  98., 105.,  95.,  98.,  98., 109.,\n",
       "         97.,  99.,  99.,  97., 103., 101., 100., 100.,  98., 101., 102.,\n",
       "         98.,  97., 103.,  96., 107.,  86., 109., 105.,  93., 105.,  95.,\n",
       "        104.,  90., 106., 105.,  93., 100.,  99., 101.,  96., 107.,  83.,\n",
       "        117., 104., 105.,  94.,  97.,  93., 109.,  96.,  96., 101.,  95.,\n",
       "        107., 105.,  90.,  96., 112., 101.,  97.,  98., 102., 105., 100.,\n",
       "        109.]),\n",
       " array([-8.61328218e-01, -6.44314258e-01, -4.27300297e-01, -2.10286336e-01,\n",
       "         6.72762481e-03,  2.23741586e-01,  4.40755546e-01,  6.57769507e-01,\n",
       "         8.74783468e-01,  1.09179743e+00,  1.30881139e+00,  1.52582535e+00,\n",
       "         1.74283931e+00,  1.95985327e+00,  2.17686723e+00,  2.39388119e+00,\n",
       "         2.61089515e+00,  2.82790912e+00,  3.04492308e+00,  3.26193704e+00,\n",
       "         3.47895100e+00,  3.69596496e+00,  3.91297892e+00,  4.12999288e+00,\n",
       "         4.34700684e+00,  4.56402080e+00,  4.78103476e+00,  4.99804872e+00,\n",
       "         5.21506268e+00,  5.43207664e+00,  5.64909061e+00,  5.86610457e+00,\n",
       "         6.08311853e+00,  6.30013249e+00,  6.51714645e+00,  6.73416041e+00,\n",
       "         6.95117437e+00,  7.16818833e+00,  7.38520229e+00,  7.60221625e+00,\n",
       "         7.81923021e+00,  8.03624417e+00,  8.25325814e+00,  8.47027210e+00,\n",
       "         8.68728606e+00,  8.90430002e+00,  9.12131398e+00,  9.33832794e+00,\n",
       "         9.55534190e+00,  9.77235586e+00,  9.98936982e+00,  1.02063838e+01,\n",
       "         1.04233977e+01,  1.06404117e+01,  1.08574257e+01,  1.10744396e+01,\n",
       "         1.12914536e+01,  1.15084675e+01,  1.17254815e+01,  1.19424955e+01,\n",
       "         1.21595094e+01,  1.23765234e+01,  1.25935374e+01,  1.28105513e+01,\n",
       "         1.30275653e+01,  1.32445792e+01,  1.34615932e+01,  1.36786072e+01,\n",
       "         1.38956211e+01,  1.41126351e+01,  1.43296490e+01,  1.45466630e+01,\n",
       "         1.47636770e+01,  1.49806909e+01,  1.51977049e+01,  1.54147188e+01,\n",
       "         1.56317328e+01,  1.58487468e+01,  1.60657607e+01,  1.62827747e+01,\n",
       "         1.64997886e+01,  1.67168026e+01,  1.69338166e+01,  1.71508305e+01,\n",
       "         1.73678445e+01,  1.75848584e+01,  1.78018724e+01,  1.80188864e+01,\n",
       "         1.82359003e+01,  1.84529143e+01,  1.86699283e+01,  1.88869422e+01,\n",
       "         1.91039562e+01,  1.93209701e+01,  1.95379841e+01,  1.97549981e+01,\n",
       "         1.99720120e+01,  2.01890260e+01,  2.04060399e+01,  2.06230539e+01,\n",
       "         2.08400679e+01]),\n",
       " <BarContainer object of 100 artists>)"
      ]
     },
     "execution_count": 7,
     "metadata": {},
     "output_type": "execute_result"
    },
    {
     "data": {
      "image/png": "[encoded data removed]",
      "text/plain": [
       "<Figure size 640x480 with 1 Axes>"
      ]
     },
     "metadata": {},
     "output_type": "display_data"
    },
    {
     "data": {
      "image/png": "[encoded data removed]",
      "text/plain": [
       "<Figure size 640x480 with 1 Axes>"
      ]
     },
     "metadata": {},
     "output_type": "display_data"
    }
   ],
   "source": [
    "%matplotlib inline \n",
    "\n",
    "N_bins = 100 \n",
    "z_data = pose_boundary_df_filtered['z'].values  \n",
    "N_map_points = 10_000 \n",
    "N_points_per_bin = N_map_points // N_bins \n",
    "\n",
    "# plot distribution of z \n",
    "plt.figure()\n",
    "plt.hist(z_data, bins=N_bins) \n",
    "# plt.ylim([0, 1E5])\n",
    "\n",
    "# compute bin edges \n",
    "bin_edges = np.linspace(min(z_data), max(z_data), N_bins+1) \n",
    "idx_sample = [] \n",
    "\n",
    "for i in range(N_bins): \n",
    "    bin_min = bin_edges[i] \n",
    "    bin_max = bin_edges[i+1] \n",
    "    idx = np.where((z_data >= bin_min) & (z_data < bin_max))[0] \n",
    "    idx_bin_sample = np.random.choice(idx, min(N_points_per_bin,len(idx)), replace=False) \n",
    "    idx_sample.extend(idx_bin_sample) \n",
    "\n",
    "df_map_z_sampled = pose_boundary_df_filtered.iloc[idx_sample]  \n",
    "\n",
    "plt.figure()\n",
    "plt.hist(df_map_z_sampled['z'], bins=N_bins) "
   ]
  },
  {
   "cell_type": "code",
   "execution_count": 11,
   "metadata": {},
   "outputs": [],
   "source": [
    "# full dimensional plot \n",
    "\n",
    "x = pose_boundary_df_filtered['x'].values \n",
    "y = pose_boundary_df_filtered['y'].values \n",
    "z = pose_boundary_df_filtered['z'].values \n",
    "a = pose_boundary_df_filtered['a'].values \n",
    "b = pose_boundary_df_filtered['b'].values \n",
    "c = pose_boundary_df_filtered['c'].values \n",
    "\n",
    "# x = df_map_z_sampled['x'].values \n",
    "# y = df_map_z_sampled['y'].values \n",
    "# z = df_map_z_sampled['z'].values \n",
    "# a = df_map_z_sampled['a'].values \n",
    "# b = df_map_z_sampled['b'].values \n",
    "# c = df_map_z_sampled['c'].values \n",
    "\n",
    "# linearly rescale angles to -pi to pi \n",
    "a_rescale = ((a - min(a))/(max(a) - min(a)) * 2*np.pi) - np.pi  \n",
    "b_rescale = ((b - min(b))/(max(b) - min(b)) * 2*np.pi) - np.pi  \n",
    "c_rescale = ((c - min(c))/(max(c) - min(c)) * 2*np.pi) - np.pi  \n",
    "\n",
    "# convert euler angles to rotation matrices \n",
    "rotations = []\n",
    "x_axis = []\n",
    "y_axis = []\n",
    "z_axis = []  \n",
    "for i in range(len(a_rescale)): \n",
    "    r = R.from_euler('xyz', [c_rescale[i], b_rescale[i], a_rescale[i]], degrees=False).as_matrix()  \n",
    "    rotations.append(r) \n",
    "    x_axis.append(r[:,0])\n",
    "    y_axis.append(r[:,1])\n",
    "    z_axis.append(r[:,2]) \n",
    "\n",
    "x_axis = np.array(x_axis) \n",
    "y_axis = np.array(y_axis) \n",
    "z_axis = np.array(z_axis) "
   ]
  },
  {
   "cell_type": "code",
   "execution_count": 12,
   "metadata": {},
   "outputs": [],
   "source": [
    "# 3d plot of 2d manifold \n",
    "%matplotlib qt \n",
    "fig = plt.figure() \n",
    "ax = fig.add_subplot(111, projection='3d') \n",
    "sc = ax.scatter(x, y, z, c=a, cmap='viridis', s=0.01)  \n",
    "cbar = plt.colorbar(sc)\n",
    "cbar.set_label('a') \n",
    "q = ax.quiver(x, y, z, z_axis[:,0], z_axis[:,1], z_axis[:,2], cmap='viridis', length=0.1, normalize=True, linewidth=10.0)\n",
    "q.set_array(np.abs(a))\n",
    "ax.set_xlabel(plot_dimensions[0]) \n",
    "ax.set_ylabel(plot_dimensions[1]) \n",
    "ax.set_zlabel(plot_dimensions[2]) \n",
    "plt.show() "
   ]
  },
  {
   "cell_type": "code",
   "execution_count": 13,
   "metadata": {},
   "outputs": [],
   "source": [
    "# 3 xyz plots colored by a,b,c \n",
    "%matplotlib qt \n",
    "fig = plt.figure() \n",
    "\n",
    "point_size = 1.0 \n",
    "\n",
    "ax0 = fig.add_subplot(2,2,1, projection='3d') \n",
    "sc = ax0.scatter(x, y, z, c=a, cmap='turbo', s=point_size)  \n",
    "cbar = plt.colorbar(sc)\n",
    "cbar.set_label('a') \n",
    "ax0.set_xlabel('x') \n",
    "ax0.set_ylabel('y') \n",
    "ax0.set_zlabel('z') \n",
    "\n",
    "ax1 = fig.add_subplot(2,2,2, projection='3d') \n",
    "sc = ax1.scatter(x, y, z, c=b, cmap='turbo', s=point_size)  \n",
    "cbar = plt.colorbar(sc)\n",
    "cbar.set_label('b') \n",
    "ax1.set_xlabel('x') \n",
    "ax1.set_ylabel('y') \n",
    "ax1.set_zlabel('z') \n",
    "\n",
    "ax2 = fig.add_subplot(2,1,2, projection='3d') \n",
    "sc = ax2.scatter(x, y, z, c=c, cmap='turbo', s=point_size)  \n",
    "cbar = plt.colorbar(sc)\n",
    "cbar.set_label('c') \n",
    "ax2.set_xlabel('x') \n",
    "ax2.set_ylabel('y') \n",
    "ax2.set_zlabel('z') \n",
    "\n",
    "def on_move(event):\n",
    "    if event.inaxes == ax0:\n",
    "        ax1.view_init(elev=ax0.elev, azim=ax0.azim)\n",
    "        ax2.view_init(elev=ax0.elev, azim=ax0.azim)\n",
    "        xlim = ax0.get_xlim()\n",
    "        ylim = ax0.get_ylim()\n",
    "        zlim = ax0.get_zlim()\n",
    "        ax1.set_xlim(xlim)\n",
    "        ax1.set_ylim(ylim)\n",
    "        ax1.set_zlim(zlim)\n",
    "        ax2.set_xlim(xlim)\n",
    "        ax2.set_ylim(ylim)\n",
    "        ax2.set_zlim(zlim)\n",
    "    if event.inaxes == ax1:\n",
    "        ax0.view_init(elev=ax1.elev, azim=ax1.azim)\n",
    "        ax2.view_init(elev=ax1.elev, azim=ax1.azim)\n",
    "        xlim = ax1.get_xlim()\n",
    "        ylim = ax1.get_ylim()\n",
    "        zlim = ax1.get_zlim()\n",
    "        ax0.set_xlim(xlim)\n",
    "        ax0.set_ylim(ylim)\n",
    "        ax0.set_zlim(zlim)\n",
    "        ax2.set_xlim(xlim)\n",
    "        ax2.set_ylim(ylim)\n",
    "        ax2.set_zlim(zlim)\n",
    "    elif event.inaxes == ax2:\n",
    "        ax0.view_init(elev=ax2.elev, azim=ax2.azim)\n",
    "        ax1.view_init(elev=ax2.elev, azim=ax2.azim)\n",
    "        xlim = ax2.get_xlim()\n",
    "        ylim = ax2.get_ylim()\n",
    "        zlim = ax2.get_zlim()\n",
    "        ax0.set_xlim(xlim)\n",
    "        ax0.set_ylim(ylim)\n",
    "        ax0.set_zlim(zlim)\n",
    "        ax1.set_xlim(xlim)\n",
    "        ax1.set_ylim(ylim)\n",
    "        ax1.set_zlim(zlim)\n",
    "    plt.draw()\n",
    "\n",
    "# Connect the callback\n",
    "fig.canvas.mpl_connect('motion_notify_event', on_move)\n",
    "\n",
    "plt.tight_layout()\n",
    "plt.show() "
   ]
  }
 ],
 "metadata": {
  "kernelspec": {
   "display_name": "mujoco_env",
   "language": "python",
   "name": "python3"
  },
  "language_info": {
   "codemirror_mode": {
    "name": "ipython",
    "version": 3
   },
   "file_extension": ".py",
   "mimetype": "text/x-python",
   "name": "python",
   "nbconvert_exporter": "python",
   "pygments_lexer": "ipython3",
   "version": "3.12.7"
  }
 },
 "nbformat": 4,
 "nbformat_minor": 2
}
