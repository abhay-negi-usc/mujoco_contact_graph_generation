{
 "cells": [
  {
   "cell_type": "code",
   "execution_count": 1,
   "metadata": {},
   "outputs": [],
   "source": [
    "import numpy as np \n",
    "import pandas as pd \n",
    "import matplotlib.pyplot as plt \n",
    "import glob \n",
    "import os \n",
    "import pickle \n",
    "from scipy.spatial.transform import Rotation as R "
   ]
  },
  {
   "cell_type": "code",
   "execution_count": 2,
   "metadata": {},
   "outputs": [],
   "source": [
    "# Set equal scaling\n",
    "def set_axes_equal(ax):\n",
    "    \"\"\"Set 3D plot axes to have equal scale.\"\"\"\n",
    "    x_limits = ax.get_xlim3d()\n",
    "    y_limits = ax.get_ylim3d()\n",
    "    z_limits = ax.get_zlim3d()\n",
    "\n",
    "    x_range = abs(x_limits[1] - x_limits[0])\n",
    "    y_range = abs(y_limits[1] - y_limits[0])\n",
    "    # z_range = abs(z_limits[1] - z_limits[0])\n",
    "\n",
    "    max_range = max(x_range, y_range)\n",
    "\n",
    "    x_middle = np.mean(x_limits)\n",
    "    y_middle = np.mean(y_limits)\n",
    "    # z_middle = np.mean(z_limits)\n",
    "\n",
    "    ax.set_xlim3d([x_middle - max_range / 2, x_middle + max_range / 2])\n",
    "    ax.set_ylim3d([y_middle - max_range / 2, y_middle + max_range / 2])\n",
    "    # ax.set_zlim3d([z_middle - max_range / 2, z_middle + max_range / 2])"
   ]
  },
  {
   "cell_type": "code",
   "execution_count": 3,
   "metadata": {},
   "outputs": [
    {
     "name": "stdout",
     "output_type": "stream",
     "text": [
      "2132788\n"
     ]
    }
   ],
   "source": [
    "# read data \n",
    "# dir_results = \"/media/rp/Elements/abhay_ws/mujoco_contact_graph_generation/results/plug_3_pin_data_v2\" \n",
    "dir_results = \"/media/rp/Elements/abhay_ws/mujoco_contact_graph_generation/results/cross_peg_data_v1\" \n",
    "dir_pkl = dir_results + \"/pkl\" \n",
    "dir_save = dir_pkl.removesuffix(\"pkl\") + \"processed_data\"\n",
    "pose_boundary_df = pd.read_csv(os.path.join(dir_save, \"pose_boundary_data.csv\")) \n",
    "print(len(pose_boundary_df)) "
   ]
  },
  {
   "cell_type": "code",
   "execution_count": 43,
   "metadata": {},
   "outputs": [],
   "source": [
    "flag_filter = True   \n",
    "filter_dimensions = ['x','y','a','b','c'] \n",
    "# find the mean and std of the data \n",
    "mean_data = pose_boundary_df[filter_dimensions].mean(axis=0)\n",
    "std_data = pose_boundary_df[filter_dimensions].std(axis=0)\n",
    "\n",
    "# filter data to 2 standard deviations from the mean \n",
    "if flag_filter: \n",
    "    # pose_boundary_df = pose_boundary_df[(pose_boundary_df[filter_dimensions] > mean_data - 2*std_data).all(axis=1)]\n",
    "    # pose_boundary_df = pose_boundary_df[(pose_boundary_df[filter_dimensions] < mean_data + 2*std_data).all(axis=1)] \n",
    "    pose_boundary_df = pose_boundary_df[pose_boundary_df['z'] < 14.0] "
   ]
  },
  {
   "cell_type": "code",
   "execution_count": 44,
   "metadata": {},
   "outputs": [
    {
     "name": "stdout",
     "output_type": "stream",
     "text": [
      "Number of filtered data points: 174492\n"
     ]
    }
   ],
   "source": [
    "# cross-sectional plot \n",
    "\n",
    "dimension_filters = {\n",
    "    \"x\": [-0.1, +0.1],\n",
    "    \"y\": [-0.05, +0.05], \n",
    "    \"z\": [-float('inf'), +float('inf')],\n",
    "    \"a\": [-float('inf'), +float('inf')], \n",
    "    \"b\": [-float('inf'), +float('inf')], \n",
    "    \"c\": [-float('inf'), +float('inf')], \n",
    "}\n",
    "\n",
    "# filter data \n",
    "pose_boundary_df_filtered = pose_boundary_df.copy()\n",
    "for dim, bounds in dimension_filters.items():\n",
    "    pose_boundary_df_filtered = pose_boundary_df_filtered[(pose_boundary_df_filtered[dim] >= bounds[0]) & (pose_boundary_df_filtered[dim] <= bounds[1])] \n",
    "\n",
    "# number of filtered data points \n",
    "print(f\"Number of filtered data points: {pose_boundary_df_filtered.shape[0]}\") \n",
    "\n",
    "max_points_plot = 100_000\n",
    "pose_boundary_df_filtered = pose_boundary_df_filtered.sample(n=min(max_points_plot, pose_boundary_df_filtered.shape[0])) \n",
    "\n",
    "# plot_dimensions = [\"x\", \"y\", \"a\", \"c\"]\n",
    "plot_dimensions = [\"a\", \"b\", \"c\", \"x\"] \n",
    "# 3d plot of 2d manifold \n",
    "%matplotlib qt \n",
    "fig = plt.figure() \n",
    "ax = fig.add_subplot(111, projection='3d') \n",
    "# ax.scatter(pose_boundary_df_filtered[plot_dimensions[0]], pose_boundary_df_filtered[plot_dimensions[1]], pose_boundary_df_filtered[plot_dimensions[2]], s=1) \n",
    "sc = ax.scatter(pose_boundary_df_filtered[plot_dimensions[0]], pose_boundary_df_filtered[plot_dimensions[1]], pose_boundary_df_filtered[plot_dimensions[2]], s=1, c=pose_boundary_df_filtered[plot_dimensions[3]], cmap='viridis')  \n",
    "cbar = plt.colorbar(sc)\n",
    "cbar.set_label(plot_dimensions[3])\n",
    "ax.set_xlabel(plot_dimensions[0]) \n",
    "ax.set_ylabel(plot_dimensions[1]) \n",
    "ax.set_zlabel(plot_dimensions[2]) \n",
    "# set_axes_equal(ax)\n",
    "plt.show() "
   ]
  },
  {
   "cell_type": "code",
   "execution_count": 45,
   "metadata": {},
   "outputs": [
    {
     "name": "stdout",
     "output_type": "stream",
     "text": [
      "Number of filtered data points: 1831210\n"
     ]
    }
   ],
   "source": [
    "# full dimensional plot \n",
    "\n",
    "dimension_filters = {\n",
    "    \"x\": [-float('inf'), +float('inf')],\n",
    "    \"y\": [-float('inf'), +float('inf')],\n",
    "    \"z\": [-float('inf'), +float('inf')],\n",
    "    \"a\": [-float('inf'), +float('inf')], \n",
    "    \"b\": [-float('inf'), +float('inf')], \n",
    "    \"c\": [-float('inf'), +float('inf')], \n",
    "}\n",
    "\n",
    "# filter data \n",
    "pose_boundary_df_filtered = pose_boundary_df.copy()\n",
    "# for dim, bounds in dimension_filters.items():\n",
    "#     pose_boundary_df_filtered = pose_boundary_df_filtered[pose_boundary_df_filtered[dim] >= pose_boundary_df_filtered[dim].mean() - 2*pose_boundary_df_filtered[dim].std()]\n",
    "#     pose_boundary_df_filtered = pose_boundary_df_filtered[pose_boundary_df_filtered[dim] <= pose_boundary_df_filtered[dim].mean() + 2*pose_boundary_df_filtered[dim].std()]\n",
    "#     pose_boundary_df_filtered = pose_boundary_df_filtered[(pose_boundary_df_filtered[dim] >= bounds[0]) & (pose_boundary_df_filtered[dim] <= bounds[1])] \n",
    "\n",
    "# number of filtered data points \n",
    "print(f\"Number of filtered data points: {pose_boundary_df_filtered.shape[0]}\") \n",
    "\n",
    "max_points_plot = 100_000\n",
    "pose_boundary_df_filtered = pose_boundary_df_filtered.sample(n=min(max_points_plot, pose_boundary_df_filtered.shape[0])) \n"
   ]
  },
  {
   "cell_type": "code",
   "execution_count": 46,
   "metadata": {},
   "outputs": [
    {
     "data": {
      "text/plain": [
       "(array([  4.,   7.,   9.,  14.,  17.,  25.,  24.,  33.,  42.,  49.,  51.,\n",
       "         83., 100., 100., 100.,  99., 101., 100., 100., 100., 100., 100.,\n",
       "        100.,  85., 100.,  96.,  99., 101., 100.,  86., 101.,  88., 100.,\n",
       "        101., 100., 100.,  97., 100.,  96.,  99.,  94., 100.,  79.,  97.,\n",
       "         96.,  98.,  92., 100.,  85.,  73.,  88.,  67.,  87.,  86.,  76.,\n",
       "         76.,  65.,  75.,  77.,  80.,  71.,  57.,  77.,  66.,  54.,  96.,\n",
       "         73.,  75.,  58.,  57.,  67.,  55.,  64.,  58.,  53.,  47.,  57.,\n",
       "         49.,  46.,  55.,  39.,  61.,  53.,  55.,  55.,  65.,  51.,  40.,\n",
       "         46.,  47.,  39.,  58.,  44.,  41.,  60.,  47.,  54.,  77.,  99.,\n",
       "        102.]),\n",
       " array([-2.51333988, -2.34823994, -2.18314   , -2.01804006, -1.85294012,\n",
       "        -1.68784017, -1.52274023, -1.35764029, -1.19254035, -1.02744041,\n",
       "        -0.86234047, -0.69724053, -0.53214059, -0.36704065, -0.20194071,\n",
       "        -0.03684076,  0.12825918,  0.29335912,  0.45845906,  0.623559  ,\n",
       "         0.78865894,  0.95375888,  1.11885882,  1.28395876,  1.4490587 ,\n",
       "         1.61415865,  1.77925859,  1.94435853,  2.10945847,  2.27455841,\n",
       "         2.43965835,  2.60475829,  2.76985823,  2.93495817,  3.10005811,\n",
       "         3.26515805,  3.430258  ,  3.59535794,  3.76045788,  3.92555782,\n",
       "         4.09065776,  4.2557577 ,  4.42085764,  4.58595758,  4.75105752,\n",
       "         4.91615746,  5.08125741,  5.24635735,  5.41145729,  5.57655723,\n",
       "         5.74165717,  5.90675711,  6.07185705,  6.23695699,  6.40205693,\n",
       "         6.56715687,  6.73225682,  6.89735676,  7.0624567 ,  7.22755664,\n",
       "         7.39265658,  7.55775652,  7.72285646,  7.8879564 ,  8.05305634,\n",
       "         8.21815628,  8.38325622,  8.54835617,  8.71345611,  8.87855605,\n",
       "         9.04365599,  9.20875593,  9.37385587,  9.53895581,  9.70405575,\n",
       "         9.86915569, 10.03425563, 10.19935558, 10.36445552, 10.52955546,\n",
       "        10.6946554 , 10.85975534, 11.02485528, 11.18995522, 11.35505516,\n",
       "        11.5201551 , 11.68525504, 11.85035499, 12.01545493, 12.18055487,\n",
       "        12.34565481, 12.51075475, 12.67585469, 12.84095463, 13.00605457,\n",
       "        13.17115451, 13.33625445, 13.50135439, 13.66645434, 13.83155428,\n",
       "        13.99665422]),\n",
       " <BarContainer object of 100 artists>)"
      ]
     },
     "execution_count": 46,
     "metadata": {},
     "output_type": "execute_result"
    },
    {
     "data": {
      "image/png": "[encoded data removed]",
      "text/plain": [
       "<Figure size 640x480 with 1 Axes>"
      ]
     },
     "metadata": {},
     "output_type": "display_data"
    },
    {
     "data": {
      "image/png": "[encoded data removed]",
      "text/plain": [
       "<Figure size 640x480 with 1 Axes>"
      ]
     },
     "metadata": {},
     "output_type": "display_data"
    }
   ],
   "source": [
    "%matplotlib inline \n",
    "\n",
    "N_bins = 100 \n",
    "z_data = pose_boundary_df_filtered['z'].values  \n",
    "N_map_points = 10_000 \n",
    "N_points_per_bin = N_map_points // N_bins \n",
    "\n",
    "# plot distribution of z \n",
    "plt.figure()\n",
    "plt.hist(z_data, bins=N_bins) \n",
    "# plt.ylim([0, 1E5])\n",
    "\n",
    "# compute bin edges \n",
    "bin_edges = np.linspace(min(z_data), max(z_data), N_bins+1) \n",
    "idx_sample = [] \n",
    "\n",
    "for i in range(N_bins): \n",
    "    bin_min = bin_edges[i] \n",
    "    bin_max = bin_edges[i+1] \n",
    "    idx = np.where((z_data >= bin_min) & (z_data < bin_max))[0] \n",
    "    idx_bin_sample = np.random.choice(idx, min(N_points_per_bin,len(idx)), replace=False) \n",
    "    idx_sample.extend(idx_bin_sample) \n",
    "\n",
    "df_map_z_sampled = pose_boundary_df_filtered.iloc[idx_sample]  \n",
    "\n",
    "plt.figure()\n",
    "plt.hist(df_map_z_sampled['z'], bins=N_bins) "
   ]
  },
  {
   "cell_type": "code",
   "execution_count": 47,
   "metadata": {},
   "outputs": [],
   "source": [
    "# full dimensional plot \n",
    "\n",
    "# x = pose_boundary_df_filtered['x'].values \n",
    "# y = pose_boundary_df_filtered['y'].values \n",
    "# z = pose_boundary_df_filtered['z'].values \n",
    "# a = pose_boundary_df_filtered['a'].values \n",
    "# b = pose_boundary_df_filtered['b'].values \n",
    "# c = pose_boundary_df_filtered['c'].values \n",
    "\n",
    "x = df_map_z_sampled['x'].values \n",
    "y = df_map_z_sampled['y'].values \n",
    "z = df_map_z_sampled['z'].values \n",
    "a = df_map_z_sampled['a'].values \n",
    "b = df_map_z_sampled['b'].values \n",
    "c = df_map_z_sampled['c'].values \n",
    "\n",
    "# linearly rescale angles to -pi to pi \n",
    "a_rescale = ((a - min(a))/(max(a) - min(a)) * 2*np.pi) - np.pi  \n",
    "b_rescale = ((b - min(b))/(max(b) - min(b)) * 2*np.pi) - np.pi  \n",
    "c_rescale = ((c - min(c))/(max(c) - min(c)) * 2*np.pi) - np.pi  \n",
    "\n",
    "# convert euler angles to rotation matrices \n",
    "rotations = []\n",
    "x_axis = []\n",
    "y_axis = []\n",
    "z_axis = []  \n",
    "for i in range(len(a_rescale)): \n",
    "    r = R.from_euler('xyz', [c_rescale[i], b_rescale[i], a_rescale[i]], degrees=False).as_matrix()  \n",
    "    rotations.append(r) \n",
    "    x_axis.append(r[:,0])\n",
    "    y_axis.append(r[:,1])\n",
    "    z_axis.append(r[:,2]) \n",
    "\n",
    "x_axis = np.array(x_axis) \n",
    "y_axis = np.array(y_axis) \n",
    "z_axis = np.array(z_axis) "
   ]
  },
  {
   "cell_type": "code",
   "execution_count": 48,
   "metadata": {},
   "outputs": [],
   "source": [
    "# 3d plot of 2d manifold \n",
    "%matplotlib qt \n",
    "fig = plt.figure() \n",
    "ax = fig.add_subplot(111, projection='3d') \n",
    "sc = ax.scatter(x, y, z, c=a, cmap='viridis', s=0.01)  \n",
    "cbar = plt.colorbar(sc)\n",
    "cbar.set_label('a') \n",
    "q = ax.quiver(x, y, z, z_axis[:,0], z_axis[:,1], z_axis[:,2], cmap='viridis', length=0.1, normalize=True, linewidth=10.0)\n",
    "q.set_array(np.abs(a))\n",
    "ax.set_xlabel(plot_dimensions[0]) \n",
    "ax.set_ylabel(plot_dimensions[1]) \n",
    "ax.set_zlabel(plot_dimensions[2]) \n",
    "plt.show() "
   ]
  },
  {
   "cell_type": "code",
   "execution_count": 49,
   "metadata": {},
   "outputs": [],
   "source": [
    "# 3 xyz plots colored by a,b,c \n",
    "%matplotlib qt \n",
    "fig = plt.figure() \n",
    "\n",
    "point_size = 1.0 \n",
    "\n",
    "ax0 = fig.add_subplot(1,3,1, projection='3d') \n",
    "sc = ax0.scatter(x, y, z, c=a, cmap='turbo', s=point_size)  \n",
    "cbar = plt.colorbar(sc)\n",
    "cbar.set_label('a') \n",
    "ax0.set_xlabel(plot_dimensions[0]) \n",
    "ax0.set_ylabel(plot_dimensions[1]) \n",
    "ax0.set_zlabel(plot_dimensions[2]) \n",
    "\n",
    "ax1 = fig.add_subplot(1,3,2, projection='3d') \n",
    "sc = ax1.scatter(x, y, z, c=b, cmap='turbo', s=point_size)  \n",
    "cbar = plt.colorbar(sc)\n",
    "cbar.set_label('b') \n",
    "ax1.set_xlabel(plot_dimensions[0]) \n",
    "ax1.set_ylabel(plot_dimensions[1]) \n",
    "ax1.set_zlabel(plot_dimensions[2]) \n",
    "\n",
    "ax2 = fig.add_subplot(1,3,3, projection='3d') \n",
    "sc = ax2.scatter(x, y, z, c=c, cmap='turbo', s=point_size)  \n",
    "cbar = plt.colorbar(sc)\n",
    "cbar.set_label('c') \n",
    "ax2.set_xlabel(plot_dimensions[0]) \n",
    "ax2.set_ylabel(plot_dimensions[1]) \n",
    "ax2.set_zlabel(plot_dimensions[2]) \n",
    "\n",
    "def on_move(event):\n",
    "    if event.inaxes == ax0:\n",
    "        ax1.view_init(elev=ax0.elev, azim=ax0.azim)\n",
    "        ax2.view_init(elev=ax0.elev, azim=ax0.azim)\n",
    "        xlim = ax0.get_xlim()\n",
    "        ylim = ax0.get_ylim()\n",
    "        zlim = ax0.get_zlim()\n",
    "        ax1.set_xlim(xlim)\n",
    "        ax1.set_ylim(ylim)\n",
    "        ax1.set_zlim(zlim)\n",
    "        ax2.set_xlim(xlim)\n",
    "        ax2.set_ylim(ylim)\n",
    "        ax2.set_zlim(zlim)\n",
    "    if event.inaxes == ax1:\n",
    "        ax0.view_init(elev=ax1.elev, azim=ax1.azim)\n",
    "        ax2.view_init(elev=ax1.elev, azim=ax1.azim)\n",
    "        xlim = ax1.get_xlim()\n",
    "        ylim = ax1.get_ylim()\n",
    "        zlim = ax1.get_zlim()\n",
    "        ax0.set_xlim(xlim)\n",
    "        ax0.set_ylim(ylim)\n",
    "        ax0.set_zlim(zlim)\n",
    "        ax2.set_xlim(xlim)\n",
    "        ax2.set_ylim(ylim)\n",
    "        ax2.set_zlim(zlim)\n",
    "    elif event.inaxes == ax2:\n",
    "        ax0.view_init(elev=ax2.elev, azim=ax2.azim)\n",
    "        ax1.view_init(elev=ax2.elev, azim=ax2.azim)\n",
    "        xlim = ax2.get_xlim()\n",
    "        ylim = ax2.get_ylim()\n",
    "        zlim = ax2.get_zlim()\n",
    "        ax0.set_xlim(xlim)\n",
    "        ax0.set_ylim(ylim)\n",
    "        ax0.set_zlim(zlim)\n",
    "        ax1.set_xlim(xlim)\n",
    "        ax1.set_ylim(ylim)\n",
    "        ax1.set_zlim(zlim)\n",
    "    plt.draw()\n",
    "\n",
    "\n",
    "# Connect the callback\n",
    "fig.canvas.mpl_connect('motion_notify_event', on_move)\n",
    "plt.tight_layout()\n",
    "plt.show() "
   ]
  }
 ],
 "metadata": {
  "kernelspec": {
   "display_name": "mujoco_env",
   "language": "python",
   "name": "python3"
  },
  "language_info": {
   "codemirror_mode": {
    "name": "ipython",
    "version": 3
   },
   "file_extension": ".py",
   "mimetype": "text/x-python",
   "name": "python",
   "nbconvert_exporter": "python",
   "pygments_lexer": "ipython3",
   "version": "3.12.7"
  }
 },
 "nbformat": 4,
 "nbformat_minor": 2
}
