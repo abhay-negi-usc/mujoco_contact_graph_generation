{
 "cells": [
  {
   "cell_type": "markdown",
   "metadata": {},
   "source": [
    "Objective: Use mujoco sim data to map the boundary of pose space \n",
    "\n",
    "Methodology: \n",
    "* go through each timestep of each trial of data \n",
    "* if non-zero contact and contact is below top surface (non-inclusive), then save pose to list \n",
    "* plot the high dimensional manifold as a 2D manifold in 3D space by fixing 3 dimensions "
   ]
  },
  {
   "cell_type": "code",
   "execution_count": 2,
   "metadata": {},
   "outputs": [],
   "source": [
    "import numpy as np \n",
    "import pandas as pd \n",
    "import matplotlib.pyplot as plt \n",
    "import glob \n",
    "import os \n",
    "import pickle \n",
    "from scipy.spatial.transform import Rotation as R "
   ]
  },
  {
   "cell_type": "code",
   "execution_count": 3,
   "metadata": {},
   "outputs": [
    {
     "name": "stdout",
     "output_type": "stream",
     "text": [
      "Completion Progress: 1000/10000\n",
      "Completion Progress: 2000/10000\n",
      "Completion Progress: 3000/10000\n",
      "Completion Progress: 4000/10000\n",
      "Completion Progress: 5000/10000\n",
      "Completion Progress: 6000/10000\n",
      "Completion Progress: 7000/10000\n",
      "Completion Progress: 8000/10000\n",
      "Completion Progress: 9000/10000\n",
      "Completion Progress: 10000/10000\n"
     ]
    }
   ],
   "source": [
    "# go through each timestep of each trial of data \n",
    "\n",
    "peg_geom = \"plug_3_pin\" # \"cross\", \"plug_3_pin\"  \n",
    "\n",
    "dir_results = \"/media/rp/Elements/abhay_ws/mujoco_contact_graph_generation/results/plug_3_pin_data_v2\" \n",
    "# dir_results = \"/media/rp/Elements/abhay_ws/mujoco_contact_graph_generation/results/cross_peg_data_v2\" \n",
    "dir_pkl = dir_results + \"/pkl\" \n",
    "pkl_files = sorted(glob.glob(os.path.join(dir_pkl, \"*.pkl\")), key=os.path.getmtime)\n",
    "\n",
    "dir_save = dir_pkl.removesuffix(\"pkl\") + \"processed_data\"\n",
    "if not os.path.exists(dir_save): \n",
    "    os.makedirs(dir_save)\n",
    "\n",
    "# list of all contact state history \n",
    "N_timesteps = 500 \n",
    "N_trials = 10_000 \n",
    "N_trials = len(pkl_files) if len(pkl_files) < N_trials else N_trials\n",
    "pkl_files = pkl_files[:N_trials] \n",
    "pose_boundary_list = [] \n",
    "\n",
    "for i, pkl_file in enumerate(pkl_files): \n",
    "\n",
    "    # Read the pickle file\n",
    "    with open(pkl_file, 'rb') as f:\n",
    "        data = pickle.load(f)\n",
    "\n",
    "    # unpack data \n",
    "    state_hist = data['state_hist'] \n",
    "    contact_pos = data['contact_pos'] \n",
    "\n",
    "    # check if there is contact within the hole area, if so, add the pose to the list \n",
    "    for j, contact_pos_j in enumerate(contact_pos): # iterate through each time step \n",
    "        if len(contact_pos_j) > 0: # if there is contact \n",
    "            for k, contact_pos_hole_frame in enumerate(contact_pos_j): # iterate through each contact at current time step \n",
    "                if peg_geom == \"cross\":\n",
    "                    if contact_pos_hole_frame[2] < 0 and max(contact_pos_hole_frame[:2]) < 0.012: # if contact is below the surface and within hole area \n",
    "                        peg_pose = state_hist[j, 1:8] \n",
    "                        pose_boundary_list.append(peg_pose) \n",
    "                        continue # don't need to check pose again \n",
    "                elif peg_geom == \"plug_3_pin\": \n",
    "                    x_contact = contact_pos_hole_frame[0] * 1E3\n",
    "                    y_contact = contact_pos_hole_frame[1] * 1E3\n",
    "                    z_contact = contact_pos_hole_frame[2] * 1E3 \n",
    "                    if z_contact < 0 and (((x_contact-0)**2 + (y_contact - -10)**2 < 8) or ((x_contact - -6)**2 + (y_contact - 3.5)**2 < 10) or ((x_contact - 6)**2 + (y_contact - 3.5)**2 < 8)): # if contact is below the surface and within hole area \n",
    "                        peg_pose = state_hist[j, 1:8] \n",
    "                        pose_boundary_list.append(peg_pose) \n",
    "                        continue # don't need to check pose again \n",
    "    # print progress rate every 10% of total iterations \n",
    "    if (i+1) % np.floor(len(pkl_files)/10) == 0: \n",
    "        print(f\"Completion Progress: {i+1}/{len(pkl_files)}\")  \n",
    "\n",
    "# convert list to dataframe \n",
    "pose_boundary_df = pd.DataFrame(pose_boundary_list, columns=['x', 'y', 'z', 'qw', 'qx', 'qy', 'qz']) \n",
    "\n",
    "# convert quaternion to euler angles \n",
    "quaternions = pose_boundary_df[['qw', 'qx', 'qy', 'qz']].values \n",
    "euler_angles = R.from_quat(quaternions, scalar_first=True).as_euler(\"xyz\", degrees=True) \n",
    "pose_boundary_df['a'] = euler_angles[:,2]\n",
    "pose_boundary_df['b'] = euler_angles[:,1]\n",
    "pose_boundary_df['c'] = euler_angles[:,0] \n",
    "\n",
    "# convert position from meters to millimeters \n",
    "pose_boundary_df[['x', 'y', 'z']] *= 1000 \n",
    "\n",
    "# save the dataframe \n",
    "if not os.path.exists(dir_save): \n",
    "    os.makedirs(dir_save)\n",
    "pose_boundary_df.to_csv(os.path.join(dir_save, \"pose_boundary_data_10k.csv\"), index=False)  "
   ]
  }
 ],
 "metadata": {
  "kernelspec": {
   "display_name": "mujoco_env",
   "language": "python",
   "name": "python3"
  },
  "language_info": {
   "codemirror_mode": {
    "name": "ipython",
    "version": 3
   },
   "file_extension": ".py",
   "mimetype": "text/x-python",
   "name": "python",
   "nbconvert_exporter": "python",
   "pygments_lexer": "ipython3",
   "version": "3.12.7"
  }
 },
 "nbformat": 4,
 "nbformat_minor": 2
}
