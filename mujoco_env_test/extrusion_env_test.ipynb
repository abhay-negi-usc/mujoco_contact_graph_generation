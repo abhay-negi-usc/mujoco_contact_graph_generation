{
 "cells": [
  {
   "cell_type": "code",
   "execution_count": 9,
   "metadata": {},
   "outputs": [],
   "source": [
    "import mujoco \n",
    "import mediapy as media \n",
    "import numpy as np \n",
    "import pandas as pd \n",
    "import matplotlib.pyplot as plt \n",
    "from scipy.spatial.transform import Rotation as R \n",
    "import pickle \n",
    "import os \n",
    "import cv2 "
   ]
  },
  {
   "cell_type": "code",
   "execution_count": 11,
   "metadata": {},
   "outputs": [
    {
     "data": {
      "text/html": [
       "<table class=\"show_videos\" style=\"border-spacing:0px;\"><tr><td style=\"padding:1px;\"><video controls width=\"960\" height=\"720\" style=\"object-fit:cover;\" loop autoplay muted>\n",
       "      <source src=\"data:video/mp4;base64,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\" type=\"video/mp4\"/>\n",
       "      This browser does not support the video tag.\n",
       "      </video></td></tr></table>"
      ],
      "text/plain": [
       "<IPython.core.display.HTML object>"
      ]
     },
     "metadata": {},
     "output_type": "display_data"
    },
    {
     "name": "stdout",
     "output_type": "stream",
     "text": [
      "Trial 0 complete.\n",
      "\n",
      "Last z value: 0.025056606873861166\n"
     ]
    }
   ],
   "source": [
    "# TODO: collect sample runs \n",
    "# TODO: process sample runs and classify contacts \n",
    "# TODO: set up data collection \n",
    "\n",
    "xml_path = \"../env/extrusion_env.xml\" \n",
    "model = mujoco.MjModel.from_xml_path(xml_path)\n",
    "data = mujoco.MjData(model)\n",
    "num_trials = 1 \n",
    "dir_results = \"./results/data_v2\" \n",
    "os.makedirs(dir_results + \"/pkl\", exist_ok=True)\n",
    "os.makedirs(dir_results + \"/vid\", exist_ok=True)\n",
    "flag_show_video = True  \n",
    "flag_save_data = False \n",
    "\n",
    "n_frames = 2 # 500  \n",
    "height = 720 \n",
    "width = 960\n",
    "frames = []\n",
    "\n",
    "# visualize contact frames and forces, make body transparent\n",
    "options = mujoco.MjvOption()\n",
    "mujoco.mjv_defaultOption(options)\n",
    "options.flags[mujoco.mjtVisFlag.mjVIS_CONTACTPOINT] = True\n",
    "options.flags[mujoco.mjtVisFlag.mjVIS_CONTACTFORCE] = False \n",
    "options.flags[mujoco.mjtVisFlag.mjVIS_TRANSPARENT] = True\n",
    "\n",
    "# tweak scales of contact visualization elements\n",
    "model.vis.scale.contactwidth = 0.02\n",
    "model.vis.scale.contactheight = 0.02\n",
    "model.vis.scale.forcewidth = 0.05\n",
    "model.vis.map.force = 0.3\n",
    "\n",
    "for idx_trial in range(num_trials): \n",
    "\n",
    "  # define initial conditions \n",
    "  x0 = np.random.uniform(-3, +3) * (1e-3) \n",
    "  y0 = np.random.uniform(-3, +3) * (1e-3) \n",
    "  z0 = 0.025 # np.random.uniform(+4, +5) * (1e-3) \n",
    "  a0 = np.random.uniform(-5.0, +5.0) * (np.pi/180)  \n",
    "  b0 = np.random.uniform(-5.0, +5.0) * (np.pi/180)  \n",
    "  c0 = np.random.uniform(-5.0, +5.0) * (np.pi/180)  \n",
    "\n",
    "  mujoco.mj_resetData(model, data)\n",
    "  data.qpos = np.array([x0, y0, z0, a0, b0, c0]) \n",
    "  data.qvel = np.zeros(6) \n",
    "  mujoco.mj_forward(model, data)\n",
    "\n",
    "  # initialize data structures \n",
    "  state_hist = np.zeros((n_frames,1+3+4))   \n",
    "  contact_hist = [] \n",
    "  contact_num = [] \n",
    "  contact_geom1 = [] \n",
    "  contact_geom2 = [] \n",
    "  contact_dist = [] \n",
    "  contact_pos = [] \n",
    "  contact_frame = [] \n",
    "  ctrl_hist = np.zeros((n_frames,1+6)) \n",
    "  sensor_hist = np.zeros((n_frames,13))\n",
    "\n",
    "  # define controller parameters  \n",
    "  qpos_insert = np.array([0, 0, -25e-3, 0, 0, 0]) \n",
    "  z_step = 1e-3 \n",
    "\n",
    "  # Initialize video writer\n",
    "  video_path = dir_results + f\"/vid/trial_{idx_trial}.mp4\"\n",
    "  fourcc = cv2.VideoWriter_fourcc(*'mp4v') \n",
    "  video_writer = cv2.VideoWriter(video_path, fourcc, 30, (width, height))\n",
    "\n",
    "  # Simulate and display video.\n",
    "  with mujoco.Renderer(model, height, width) as renderer:\n",
    "    for i in range(n_frames): \n",
    "      while data.time < i/(30.0*4): #1/4x real time\n",
    "        mujoco.mj_step(model, data)\n",
    "      renderer.update_scene(data, \"track\", options)\n",
    "      frame = renderer.render()\n",
    "      frames.append(frame)\n",
    "\n",
    "      # Convert frame to BGR format for OpenCV\n",
    "      frame_bgr = cv2.cvtColor(frame, cv2.COLOR_RGB2BGR)\n",
    "      video_writer.write(frame_bgr)\n",
    "\n",
    "      # save data \n",
    "      state_hist[i,:] = np.concatenate([np.array([data.time]), data.xpos[2], data.xquat[2]]) \n",
    "      contact_num.append(len(data.contact.geom1)) \n",
    "      contact_geom1.append(np.array(data.contact.geom1)) \n",
    "      contact_geom2.append(np.array(data.contact.geom2)) \n",
    "      contact_dist.append(np.array(data.contact.dist))  \n",
    "      contact_pos.append(np.array(data.contact.pos)) \n",
    "      contact_frame.append(np.array(data.contact.frame)) \n",
    "      ctrl_hist[i,:] = np.concatenate([np.array([data.time]), data.ctrl])  \n",
    "      sensor_hist[i,:] = data.sensordata  \n",
    "\n",
    "      # controller update \n",
    "      data.ctrl = data.qpos \n",
    "      peg_z_axis = data.xmat[2].reshape(3,3)[:,2]  \n",
    "      if i > 10: \n",
    "        data.ctrl = data.qpos - np.concatenate([peg_z_axis*z_step, np.zeros(3)]) # push in tool -z direction \n",
    "\n",
    "  if flag_show_video: \n",
    "    media.show_video(frames, fps=30)\n",
    "\n",
    "  # Release video writer\n",
    "  video_writer.release() \n",
    "\n",
    "  df_state = pd.DataFrame(state_hist, columns=['t','x','y','z','qw','qx','qy','qz']) \n",
    "\n",
    "  print(f\"Trial {idx_trial} complete.\\n\") \n",
    "\n",
    "  data_dict = {\n",
    "    'state_hist': state_hist, \n",
    "    'contact_num': contact_num,   \n",
    "    'contact_geom1': contact_geom1,\n",
    "    'contact_geom2': contact_geom2,\n",
    "    'contact_dist': contact_dist,\n",
    "    'contact_pos': contact_pos,\n",
    "    'contact_frame': contact_frame,\n",
    "    'ctrl_hist': ctrl_hist\n",
    "  }\n",
    "\n",
    "  # save data as pkl file \n",
    "  if flag_save_data:\n",
    "    with open(dir_results + f\"/pkl/trial_{idx_trial}.pkl\", 'wb') as f: \n",
    "      pickle.dump(data_dict, f) \n",
    "  \n",
    "  # print last z value \n",
    "  print(f\"Last z value: {data.xpos[2][2]}\")\n"
   ]
  },
  {
   "cell_type": "code",
   "execution_count": 8,
   "metadata": {},
   "outputs": [
    {
     "data": {
      "text/plain": [
       "array([[ 0.00000000e+00, -8.69707200e-04,  2.07749273e-04,\n",
       "         0.00000000e+00,  9.99419268e-01,  2.59888181e-02,\n",
       "        -1.85968931e-02,  1.18264046e-02],\n",
       "       [ 9.00000000e-03, -8.20765497e-04,  1.50542629e-04,\n",
       "         4.28979439e-05,  9.99438466e-01,  2.55617986e-02,\n",
       "        -1.83142691e-02,  1.15730273e-02]])"
      ]
     },
     "execution_count": 8,
     "metadata": {},
     "output_type": "execute_result"
    }
   ],
   "source": [
    "state_hist "
   ]
  }
 ],
 "metadata": {
  "kernelspec": {
   "display_name": "mujoco_env",
   "language": "python",
   "name": "python3"
  },
  "language_info": {
   "codemirror_mode": {
    "name": "ipython",
    "version": 3
   },
   "file_extension": ".py",
   "mimetype": "text/x-python",
   "name": "python",
   "nbconvert_exporter": "python",
   "pygments_lexer": "ipython3",
   "version": "3.12.7"
  }
 },
 "nbformat": 4,
 "nbformat_minor": 2
}
