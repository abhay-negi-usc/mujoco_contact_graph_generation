{
 "cells": [
  {
   "cell_type": "code",
   "execution_count": 37,
   "metadata": {},
   "outputs": [],
   "source": [
    "import numpy as np \n",
    "import pandas as pd \n",
    "import matplotlib.pyplot as plt \n",
    "from scipy.spatial.transform import Rotation as R \n",
    "import pickle \n",
    "import os \n",
    "import glob \n",
    "from mpl_toolkits.mplot3d import Axes3D\n"
   ]
  },
  {
   "cell_type": "code",
   "execution_count": 33,
   "metadata": {},
   "outputs": [],
   "source": [
    "# read in pkl file \n",
    "dir_pkl = \"./results/data_v1/pkl\"\n",
    "\n",
    "# list all pkl files in the directory \n",
    "pkl_files = sorted(glob.glob(os.path.join(dir_pkl, \"*.pkl\")), key=os.path.getmtime)\n",
    " \n",
    "for i, pkl_file in enumerate(pkl_files): \n",
    "    \n",
    "    # Read the pickle file\n",
    "    with open(pkl_file, 'rb') as f:\n",
    "        data = pickle.load(f)\n",
    "\n",
    "    # unpack data \n",
    "    state_hist = data['state_hist'] \n",
    "    contact_num = data['contact_num'] \n",
    "    contact_geom1 = data['contact_geom1'] \n",
    "    contact_geom2 = data['contact_geom2'] \n",
    "    contact_dist = data['contact_dist'] \n",
    "    contact_pos = data['contact_pos'] \n",
    "    contact_frame = data['contact_frame'] \n",
    "    ctrl_hist = data['ctrl_hist'] \n",
    "\n",
    "    # initialize data structures \n",
    "    contact_positions = np.empty((1,3))\n",
    "\n",
    "    # unpack contact data \n",
    "    for j, contact_pos_j in enumerate(contact_pos): \n",
    "        contact_positions = np.vstack((contact_positions, contact_pos_j)) \n",
    "\n",
    "    # find contact positions \n",
    "\n",
    "    # classify geometric element which is in contact \n",
    "\n",
    "    # record geometric element pairs in contact for each time step \n",
    "\n",
    "    break \n",
    "\n"
   ]
  },
  {
   "cell_type": "code",
   "execution_count": 42,
   "metadata": {},
   "outputs": [
    {
     "name": "stderr",
     "output_type": "stream",
     "text": [
      "/tmp/ipykernel_2769607/2802278479.py:8: UserWarning: No data for colormapping provided via 'c'. Parameters 'cmap' will be ignored\n",
      "  ax.scatter(contact_positions[:,0], contact_positions[:,1], contact_positions[:,2], cmap='viridis')\n"
     ]
    }
   ],
   "source": [
    "# overlay contact positions on visualization of hole \n",
    "\n",
    "%matplotlib qt\n",
    "\n",
    "# Create a figure and a 3D Axes\n",
    "fig = plt.figure()\n",
    "ax = fig.add_subplot(111, projection='3d')\n",
    "\n",
    "# Plot the surface\n",
    "ax.scatter(contact_positions[:,0], contact_positions[:,1], contact_positions[:,2], cmap='viridis')\n",
    "\n",
    "# Add labels\n",
    "ax.set_xlabel('X axis')\n",
    "ax.set_ylabel('Y axis')\n",
    "ax.set_zlabel('Z axis')\n",
    "\n",
    "ax.set_box_aspect([1,1,1])  # Aspect ratio is 1:1:1\n",
    "\n",
    "# Show the plot\n",
    "plt.show() \n",
    "\n",
    "\n"
   ]
  }
 ],
 "metadata": {
  "kernelspec": {
   "display_name": "mujoco_env",
   "language": "python",
   "name": "python3"
  },
  "language_info": {
   "codemirror_mode": {
    "name": "ipython",
    "version": 3
   },
   "file_extension": ".py",
   "mimetype": "text/x-python",
   "name": "python",
   "nbconvert_exporter": "python",
   "pygments_lexer": "ipython3",
   "version": "3.12.7"
  }
 },
 "nbformat": 4,
 "nbformat_minor": 2
}
