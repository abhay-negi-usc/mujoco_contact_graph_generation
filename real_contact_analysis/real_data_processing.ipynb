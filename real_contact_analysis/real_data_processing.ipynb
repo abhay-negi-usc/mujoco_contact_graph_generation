{
 "cells": [
  {
   "cell_type": "code",
   "execution_count": 1,
   "metadata": {},
   "outputs": [],
   "source": [
    "import numpy as np \n",
    "import pandas as pd \n",
    "import matplotlib.pyplot as plt \n",
    "from scipy.spatial.transform import Rotation "
   ]
  },
  {
   "cell_type": "code",
   "execution_count": 2,
   "metadata": {},
   "outputs": [],
   "source": [
    "# functions \n",
    "# TODO: make a utils file and import these functions  \n",
    "\n",
    "def pose_to_T(pose):  \n",
    "    if len(pose) == 6: \n",
    "        # x,y,z,a,b,c \n",
    "        position = pose[:3].reshape(3,1) \n",
    "        a = pose[3] \n",
    "        b = pose[4]\n",
    "        c = pose[5] \n",
    "        rotation = Rotation.from_euler('xyz',[c,b,a],degrees=True).as_matrix() \n",
    "    elif len(pose) == 7: \n",
    "        # x,y,z,qx,qy,qz,qw \n",
    "        position = pose[:3].reshape(3,1) \n",
    "        q = pose[3:7] # scalar last convention \n",
    "        rotation = Rotation.from_quat(q).as_matrix() \n",
    "    else: \n",
    "        print('Invalid pose dimension') \n",
    "        return \n",
    "    T = np.vstack((\n",
    "        np.hstack((rotation,position)),\n",
    "        np.array([0,0,0,1]) \n",
    "    )) \n",
    "    return T \n",
    "\n",
    "def T_to_pose(T, pose_dim=7):\n",
    "    x, y, z = T[0,3], T[1,3], T[2,3] \n",
    "    if pose_dim == 6: \n",
    "        c, b, a = Rotation.from_matrix(T[:3,:3]).as_euler('xyz',degrees=True)     \n",
    "        pose = np.array([x,y,z,a,b,c])  \n",
    "    elif pose_dim == 7: \n",
    "        q = Rotation.from_matrix(T[:3,:3]).as_quat() \n",
    "        pose = np.zeros(7) \n",
    "        pose[:3] = np.array([x,y,z]) \n",
    "        pose[3:] = q \n",
    "    return pose \n",
    "\n",
    "def pose_6D_to_7D(pose_6D): \n",
    "    pose_7D = np.empty(7) \n",
    "    pose_7D[:3] = pose_6D[:3]\n",
    "    pose_7D[3:] = Rotation.from_euler('xyz', pose_6D[3:], degrees=True).as_quat() \n",
    "    return pose_7D \n",
    "\n",
    "\n",
    "def pose_7D_to_6D(pose_7D): \n",
    "    pose_6D = np.empty(6) \n",
    "    pose_6D[:3] = pose_7D[:3] \n",
    "    C, B, A = Rotation.from_quat(pose_7D[3:]).as_euler('xyz', degrees=True)  \n",
    "    pose_6D[3:] = np.array([A, B, C]) \n",
    "    return pose_6D \n",
    "\n",
    "def apply_delta_pose(pose, delta_pose): \n",
    "    # note delta pose is with respect to the local frame A \n",
    "    # e.g. if pose is the robot pose, then delta pose is with respect to tool frame \n",
    "    T_0A = pose_to_T(pose) \n",
    "    T_AB = pose_to_T(delta_pose) \n",
    "    T_0B = T_0A @ T_AB \n",
    "    pose_new = T_to_pose(T_0B) \n",
    "    return pose_new \n",
    "\n",
    "def invert_pose(pose, pose_dim=7): \n",
    "    T = T_to_pose(pose) \n",
    "    T_inv = np.linalg.inv(T) \n",
    "    pose_inv = T_to_pose(T_inv, pose_dim=pose_dim)  \n",
    "    return pose_inv "
   ]
  },
  {
   "cell_type": "code",
   "execution_count": 3,
   "metadata": {},
   "outputs": [
    {
     "name": "stdout",
     "output_type": "stream",
     "text": [
      "Index(['sec', 'nanosec', 'X', 'Y', 'Z', 'qx', 'qy', 'qz', 'qw'], dtype='object')\n",
      "Index(['sec', 'nanosec', 'FX', 'FY', 'FZ', 'TX', 'TY', 'TZ'], dtype='object')\n"
     ]
    },
    {
     "name": "stderr",
     "output_type": "stream",
     "text": [
      "/tmp/ipykernel_534636/2027146135.py:42: FutureWarning: Setting an item of incompatible dtype is deprecated and will raise an error in a future version of pandas. Value '0.5676898281909104' has dtype incompatible with int64, please explicitly cast to a compatible dtype first.\n",
      "  df_data.loc[i, col] = np.interp(ti_L, t_follow, df_time_follow[col].values)\n",
      "/tmp/ipykernel_534636/2027146135.py:42: FutureWarning: Setting an item of incompatible dtype is deprecated and will raise an error in a future version of pandas. Value '0.8997774183629977' has dtype incompatible with int64, please explicitly cast to a compatible dtype first.\n",
      "  df_data.loc[i, col] = np.interp(ti_L, t_follow, df_time_follow[col].values)\n",
      "/tmp/ipykernel_534636/2027146135.py:42: FutureWarning: Setting an item of incompatible dtype is deprecated and will raise an error in a future version of pandas. Value '-2.5078868486526225' has dtype incompatible with int64, please explicitly cast to a compatible dtype first.\n",
      "  df_data.loc[i, col] = np.interp(ti_L, t_follow, df_time_follow[col].values)\n",
      "/tmp/ipykernel_534636/2027146135.py:42: FutureWarning: Setting an item of incompatible dtype is deprecated and will raise an error in a future version of pandas. Value '0.2349191339795985' has dtype incompatible with int64, please explicitly cast to a compatible dtype first.\n",
      "  df_data.loc[i, col] = np.interp(ti_L, t_follow, df_time_follow[col].values)\n",
      "/tmp/ipykernel_534636/2027146135.py:42: FutureWarning: Setting an item of incompatible dtype is deprecated and will raise an error in a future version of pandas. Value '-0.4105998285434373' has dtype incompatible with int64, please explicitly cast to a compatible dtype first.\n",
      "  df_data.loc[i, col] = np.interp(ti_L, t_follow, df_time_follow[col].values)\n",
      "/tmp/ipykernel_534636/2027146135.py:42: FutureWarning: Setting an item of incompatible dtype is deprecated and will raise an error in a future version of pandas. Value '-0.0071661221003754' has dtype incompatible with int64, please explicitly cast to a compatible dtype first.\n",
      "  df_data.loc[i, col] = np.interp(ti_L, t_follow, df_time_follow[col].values)\n"
     ]
    },
    {
     "name": "stdout",
     "output_type": "stream",
     "text": [
      "Index(['sec', 'nanosec', 'X', 'Y', 'Z', 'qx', 'qy', 'qz', 'qw', 't', 'FX',\n",
      "       'FY', 'FZ', 'TX', 'TY', 'TZ'],\n",
      "      dtype='object')\n",
      "182520\n"
     ]
    }
   ],
   "source": [
    "# read in data \n",
    "trial_num = 4  \n",
    "dir_data = \"/media/rp/Elements/abhay_ws/real_contact_data/\" \n",
    "\n",
    "df_pose = pd.read_csv(dir_data + \"pose.csv\")\n",
    "df_wrench = pd.read_csv(dir_data + \"wrench.csv\") \n",
    "\n",
    "print(df_pose.columns)\n",
    "print(df_wrench.columns) \n",
    "\n",
    "# process time for each df  \n",
    "df_pose['t'] = df_pose['sec'] + 1e-9*df_pose['nanosec']\n",
    "df_wrench['t'] = df_wrench['sec'] + 1e-9*df_wrench['nanosec'] \n",
    "\n",
    "# check which df has higher sampling rate and use that as master time to merge the two df \n",
    "mean_dt_pose = np.mean(df_pose['t'].diff()) \n",
    "mean_dt_wrench = np.mean(df_wrench['t'].diff()) \n",
    "\n",
    "# slower data rate leads \n",
    "if mean_dt_pose < mean_dt_wrench: \n",
    "    # pose saved at higher rate than wrench \n",
    "    df_time_lead = df_wrench \n",
    "    df_time_follow = df_pose \n",
    "else: \n",
    "    # wrench saved at higher rate than pose \n",
    "    df_time_lead = df_pose  \n",
    "    df_time_follow = df_wrench  \n",
    "\n",
    "t_lead = df_time_lead['t'].values\n",
    "t_follow = df_time_follow['t'].values   \n",
    "\n",
    "df_data = df_time_lead \n",
    "columns_add = df_time_follow.columns.to_list() \n",
    "columns_add.remove('t')\n",
    "columns_add.remove('sec')\n",
    "columns_add.remove('nanosec') \n",
    "\n",
    "df_data[columns_add] = 0 \n",
    "# interpolate data \n",
    "for i, ti_L in enumerate(t_lead): \n",
    "    for col in columns_add: \n",
    "        df_data.loc[i, col] = np.interp(ti_L, t_follow, df_time_follow[col].values) \n",
    "\n",
    "print(df_data.columns) \n",
    "print(len(df_data))"
   ]
  },
  {
   "cell_type": "code",
   "execution_count": 4,
   "metadata": {},
   "outputs": [
    {
     "name": "stdout",
     "output_type": "stream",
     "text": [
      "Progress: 0/182520\n",
      "Progress: 18252/182520\n",
      "Progress: 36504/182520\n",
      "Progress: 54756/182520\n",
      "Progress: 73008/182520\n",
      "Progress: 91260/182520\n",
      "Progress: 109512/182520\n",
      "Progress: 127764/182520\n",
      "Progress: 146016/182520\n",
      "Progress: 164268/182520\n"
     ]
    }
   ],
   "source": [
    "# transform to tool frame \n",
    "pose_tool_wrt_flange = np.array([0,0,+110.0e-3,0,1,0,0]) # peg tip \n",
    "pose_insert = np.array([694.93e-3, 88.11e-3, 195.51e-3, -178.99, 0.56, -179.52]) \n",
    "\n",
    "# frame definitions: \n",
    "# B: base (robot) \n",
    "# F: flange (+z is direction of insertion) \n",
    "# T: tool (peg) (-z is direction of insertion) \n",
    "# Ts: tool (peg) at success (full insertion) \n",
    "# T0: tool (peg) at start (no insertion), origin of tip at same point as top surface of hole \n",
    "\n",
    "T_FT = pose_to_T(pose_tool_wrt_flange) \n",
    "T_TF = np.linalg.inv(T_FT)\n",
    "T_BFs = pose_to_T(pose_insert) \n",
    "T_FsB = np.linalg.inv(T_BFs)\n",
    "T_TsB = T_TF @ T_FsB \n",
    "T_TsT0 = pose_to_T(np.array([0,0,0,0,0,0,1])) \n",
    "T_T0Ts = np.linalg.inv(T_TsT0) \n",
    "T_T0B = T_T0Ts @ T_TsB \n",
    "\n",
    "df_tool = pd.DataFrame() \n",
    "df_tool[['t','X','Y','Z','A','B','C']] = 0 \n",
    "df_tool['t'] = df_data['t'] - df_data.loc[0,'t'] \n",
    "\n",
    "for i, row in df_data.iterrows(): \n",
    "    T_BFi = pose_to_T(row[['X','Y','Z','qx','qy','qz','qw']].values) \n",
    "    T_T0Ti = T_T0B @ T_BFi @ T_FT \n",
    "    df_tool.loc[i,['X','Y','Z','A','B','C']] = T_to_pose(T_T0Ti, pose_dim=6) \n",
    "\n",
    "    # print progress every 10% \n",
    "    if i % (len(df_data)//10) == 0: \n",
    "        print(f'Progress: {i}/{len(df_data)}') \n",
    "\n",
    "df_tool[['X','Y','Z']] *= 1E3 \n",
    "\n",
    "# add wrench data to df_tool \n",
    "dim_wrench = ['FX','FY','FZ','TX','TY','TZ']\n",
    "df_tool[dim_wrench] = df_data[dim_wrench] "
   ]
  },
  {
   "cell_type": "code",
   "execution_count": 10,
   "metadata": {},
   "outputs": [],
   "source": [
    "# two subplots of Z and FZ \n",
    "%matplotlib qt \n",
    "fig, ax = plt.subplots(2,1, figsize=(12,12), sharex=True)\n",
    "ax[0].plot(df_tool['t'], df_tool['Z'], label='Z')\n",
    "ax[0].set_title('Z')\n",
    "ax[0].set_xlabel('Time (s)')\n",
    "ax[0].set_ylabel('Z (mm)')\n",
    "ax[0].grid(True)\n",
    "\n",
    "ax[1].plot(df_tool['t'], df_tool['FZ'], label='FZ')\n",
    "ax[1].set_title('FZ')\n",
    "ax[1].set_xlabel('Time (s)')\n",
    "ax[1].set_ylabel('FZ (N)')\n",
    "ax[1].grid(True)\n",
    "\n",
    "plt.show() \n"
   ]
  },
  {
   "cell_type": "code",
   "execution_count": 6,
   "metadata": {},
   "outputs": [
    {
     "name": "stdout",
     "output_type": "stream",
     "text": [
      "123461\n",
      "182520\n"
     ]
    }
   ],
   "source": [
    "# identify contact points \n",
    "fz_contact_thresh = -3.0 \n",
    "Fxy_contact_thresh = 10.0 \n",
    "df_tool['contact'] = False \n",
    "for i, row in df_tool.iterrows(): \n",
    "    if row['FZ'] < fz_contact_thresh: \n",
    "        df_tool.loc[i,'contact'] = True \n",
    "    elif np.abs(row['FX']) > Fxy_contact_thresh: \n",
    "        df_tool.loc[i,'contact'] = True \n",
    "    elif np.abs(row['FY']) > Fxy_contact_thresh: \n",
    "        df_tool.loc[i,'contact'] = True \n",
    "    else: \n",
    "        df_tool.loc[i,'contact'] = False \n",
    "\n",
    "# print number of points labeled as contact and total number of points \n",
    "print(np.sum([df_tool['contact'] == True]))\n",
    "print(len(df_tool)) "
   ]
  },
  {
   "cell_type": "code",
   "execution_count": 7,
   "metadata": {},
   "outputs": [],
   "source": [
    "# save data \n",
    "df_tool.to_csv(dir_data + f\"cross_peg_contact_mapping_real.csv\", index=False) "
   ]
  }
 ],
 "metadata": {
  "kernelspec": {
   "display_name": "mujoco_env",
   "language": "python",
   "name": "python3"
  },
  "language_info": {
   "codemirror_mode": {
    "name": "ipython",
    "version": 3
   },
   "file_extension": ".py",
   "mimetype": "text/x-python",
   "name": "python",
   "nbconvert_exporter": "python",
   "pygments_lexer": "ipython3",
   "version": "3.12.7"
  }
 },
 "nbformat": 4,
 "nbformat_minor": 2
}
